{
 "cells": [
  {
   "cell_type": "code",
   "execution_count": null,
   "metadata": {},
   "outputs": [],
   "source": [
    "test"
   ]
  },
  {
   "cell_type": "code",
   "execution_count": 29,
   "metadata": {},
   "outputs": [],
   "source": [
    "import tkinter as tk \n",
    "import random\n",
    "\n",
    "def AJOUTER () :\n",
    "    print(3+4)\n",
    "\n",
    "def SOUSTRAIRE () :\n",
    "    print(3+4)\n",
    "\n",
    "\n",
    "\n",
    "\n",
    "CANVAS_WIDTH, CANVAS_HEIGHT = 500, 500\n",
    "\n",
    "root = tk.Tk()\n",
    "\n",
    "root.title(\" Tas de sable \")\n",
    "\n",
    "\n",
    "\n",
    "\n",
    "\n",
    "\n",
    "boutton_ajouter1=tk.Button(root, text=\"ajouter\", bg=\"grey100\", fg=\"black\", command=AJOUTER)\n",
    "boutton_ajouter2=tk.Button(root, text=\"ajouter\", bg=\"grey100\", fg=\"black\", command=AJOUTER)\n",
    "boutton_ajouter3=tk.Button(root, text=\"ajouter\", bg=\"grey100\", fg=\"black\", command=AJOUTER)\n",
    "\n",
    "boutton_soustraire1=tk.Button(root, text=\"soustraire\", bg=\"grey100\", fg=\"black\", command=SOUSTRAIRE)\n",
    "boutton_soustraire2=tk.Button(root, text=\"soustraire\", bg=\"grey100\", fg=\"black\", command=SOUSTRAIRE)\n",
    "boutton_soustraire3=tk.Button(root, text=\"soustraire\", bg=\"grey100\", fg=\"black\", command=SOUSTRAIRE)\n",
    "\n",
    "\n",
    "\n",
    "\n",
    "\n",
    "canvas = tk.Canvas(root, width = CANVAS_WIDTH, height = CANVAS_HEIGHT, bg=\"black\", bd=10, relief=\"raised\")\n",
    "\n",
    "canvas.create_line((1/3)*CANVAS_WIDTH, 0, (1/3)*CANVAS_WIDTH, CANVAS_HEIGHT,fill=\"white\")\n",
    "canvas.create_line((2/3)*CANVAS_WIDTH, 0, (2/3)*CANVAS_WIDTH, CANVAS_HEIGHT,fill=\"white\")\n",
    "canvas.create_line(0, (1/3)*CANVAS_HEIGHT, CANVAS_WIDTH, (1/3)*CANVAS_HEIGHT,fill=\"white\")\n",
    "canvas.create_line(0, (2/3)*CANVAS_HEIGHT, CANVAS_WIDTH, (2/3)*CANVAS_HEIGHT,fill=\"white\")\n",
    "\n",
    "\n",
    "boutton_ajouter1.grid(column=3, row=0)\n",
    "boutton_ajouter2.grid(column=3, row=1)\n",
    "boutton_ajouter3.grid(column=3, row=2)\n",
    "\n",
    "boutton_soustraire1.grid(column=1, row=0)\n",
    "boutton_soustraire2.grid(column=1, row=1)\n",
    "boutton_soustraire3.grid(column=1, row=2)\n",
    "\n",
    "canvas.grid(column=2, row=0, rowspan=3)\n",
    "\n",
    "root.mainloop()"
   ]
  }
 ],
 "metadata": {
  "interpreter": {
   "hash": "1dd6737639af4bf8956431f186ef72665a0861306c1bb5f3c1fab86cc2ebb376"
  },
  "kernelspec": {
   "display_name": "Python 3.9.7 ('l1-python')",
   "language": "python",
   "name": "python3"
  },
  "language_info": {
   "codemirror_mode": {
    "name": "ipython",
    "version": 3
   },
   "file_extension": ".py",
   "mimetype": "text/x-python",
   "name": "python",
   "nbconvert_exporter": "python",
   "pygments_lexer": "ipython3",
   "version": "3.9.7"
  },
  "orig_nbformat": 4
 },
 "nbformat": 4,
 "nbformat_minor": 2
}
