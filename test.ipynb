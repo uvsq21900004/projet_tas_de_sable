{
 "cells": [
  {
<<<<<<< HEAD
   "cell_type": "markdown",
   "metadata": {},
   "source": [
    "test"
   ]
  },
  {
=======
>>>>>>> 0710c9d8bec583deb591fecd07c578f640389588
   "cell_type": "code",
   "execution_count": null,
   "metadata": {},
   "outputs": [],
<<<<<<< HEAD
   "source": []
=======
   "source": [
    "Feuille\n"
   ]
>>>>>>> 0710c9d8bec583deb591fecd07c578f640389588
  }
 ],
 "metadata": {
  "language_info": {
   "name": "python"
  },
  "orig_nbformat": 4
 },
 "nbformat": 4,
 "nbformat_minor": 2
}
