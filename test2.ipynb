l1 = int(input("lol"))
print(l1)
